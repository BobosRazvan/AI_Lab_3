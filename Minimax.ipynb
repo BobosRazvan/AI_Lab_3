{
  "nbformat": 4,
  "nbformat_minor": 0,
  "metadata": {
    "colab": {
      "provenance": [],
      "authorship_tag": "ABX9TyN0mpvI8gD6mbftvxQ7MzU4",
      "include_colab_link": true
    },
    "kernelspec": {
      "name": "python3",
      "display_name": "Python 3"
    },
    "language_info": {
      "name": "python"
    }
  },
  "cells": [
    {
      "cell_type": "markdown",
      "metadata": {
        "id": "view-in-github",
        "colab_type": "text"
      },
      "source": [
        "<a href=\"https://colab.research.google.com/github/BobosRazvan/AI_Lab_3/blob/main/Minimax.ipynb\" target=\"_parent\"><img src=\"https://colab.research.google.com/assets/colab-badge.svg\" alt=\"Open In Colab\"/></a>"
      ]
    },
    {
      "cell_type": "code",
      "execution_count": 1,
      "metadata": {
        "id": "onELv36wCn1Y"
      },
      "outputs": [],
      "source": [
        "game_tree = {\n",
        "\"root\": {\"A\": {\"C\": 3, \"D\": 5}, \"B\": {\"E\": 6, \"F\": 9}}\n",
        "}"
      ]
    },
    {
      "cell_type": "code",
      "source": [
        "def minimax(node, is_max):\n",
        "\n",
        "  if isinstance(node, int):\n",
        "    return node\n",
        "\n",
        "  best_value = float('-inf') if is_max else float('inf')\n",
        "\n",
        "  for child in node.values():\n",
        "      value = minimax(child,not is_max)\n",
        "      if is_max == True:\n",
        "        if value > best_value:\n",
        "          best_value = value;\n",
        "      else:\n",
        "        if value < best_value:\n",
        "          best_value = value;\n",
        "\n",
        "  return best_value\n",
        "\n"
      ],
      "metadata": {
        "id": "qMI3HvCDDN8I"
      },
      "execution_count": 5,
      "outputs": []
    },
    {
      "cell_type": "code",
      "source": [
        "optimal_value = minimax(game_tree[\"root\"], is_max=True)\n",
        "print(f\"Optimal value for MAX: {optimal_value}\")"
      ],
      "metadata": {
        "colab": {
          "base_uri": "https://localhost:8080/"
        },
        "id": "gTSr8LeZDS3I",
        "outputId": "bfb44d67-368e-4e8a-de79-a6185b550b2d"
      },
      "execution_count": 7,
      "outputs": [
        {
          "output_type": "stream",
          "name": "stdout",
          "text": [
            "Optimal value for MAX: 6\n"
          ]
        }
      ]
    },
    {
      "cell_type": "markdown",
      "source": [
        "# **Analysis of first game_tree**\n",
        "\n",
        "For the given **game_tree** in the laboratory the optimal value for MAX is **6**. Trace of the execution:\n",
        "\n",
        "Step 1: Root Node (MAX Player)\n",
        "\n",
        "It goes to two branches: 'A' and 'B'.\n",
        "\n",
        "Step 2: Branch 'A' (MIN Player)\n",
        "\n",
        "It goes to two branches: 'C' which is 3 and 'D' which is 5.\n",
        "The MIN player chooses the minimum, which is 3.\n",
        "So value 3 is propagated up to A.\n",
        "\n",
        "Step 3: Branch 'B' (MIN Player)\n",
        "\n",
        "It goes to two branches: 'E' which is 6 and 'F' which is 9.\n",
        "The MIN player chooses the minimum value, which is 6.\n",
        "The value 6 is propagated up to 'B'.\n",
        "\n",
        "Step 4: Root Node (MAX Player)\n",
        "\n",
        "The algorithm is at the root node and has the values of branches 'A' (3) and 'B' (6).\n",
        "MAX player chooses the maximum value, which is 6.\n",
        "Therefore, the optimal value for MAX is 6."
      ],
      "metadata": {
        "id": "stWd2fueGSFz"
      }
    },
    {
      "cell_type": "code",
      "source": [
        "game_tree_same_utility_value = {\n",
        "    \"root\": {\n",
        "        \"A\": {\"C\": 1, \"D\": 1},\n",
        "        \"B\": {\"E\": 1, \"F\": 1}\n",
        "    }\n",
        "}"
      ],
      "metadata": {
        "id": "RFhy827IIT4D"
      },
      "execution_count": 10,
      "outputs": []
    },
    {
      "cell_type": "code",
      "source": [
        "optimal_value_2 = minimax(game_tree_same_utility_value[\"root\"], is_max=True)\n",
        "print(f\"Optimal value for MAX: {optimal_value_2}\")"
      ],
      "metadata": {
        "colab": {
          "base_uri": "https://localhost:8080/"
        },
        "id": "kBTCeP19HwgC",
        "outputId": "41ef15e6-ea71-44b0-9b7c-cf98402ad22a"
      },
      "execution_count": 11,
      "outputs": [
        {
          "output_type": "stream",
          "name": "stdout",
          "text": [
            "Optimal value for MAX: 1\n"
          ]
        }
      ]
    },
    {
      "cell_type": "markdown",
      "source": [
        "# **Analysis question 1**\n",
        "\n",
        "# **What happens when all terminal nodes have the same utility value?**\n",
        "\n",
        " The minimax algorithm will return that same value (1 - in my case) as the optimal value.\n",
        " All moves are basically equivalent. Each move the MAX player will chose maximum value which will remain 1 after updating from -infinity when reaching the leaf and the MIN player will chose 1 as minimum value between 1 and inifinity. So when reaching the root again it will chose between 1 and 1, resulting in oprimal value 1."
      ],
      "metadata": {
        "id": "aOahAKpmJSnK"
      }
    },
    {
      "cell_type": "code",
      "source": [
        "game_tree_immediate_winning_move = {\n",
        "    \"root\": {\n",
        "        \"C\": 8,    # Immediate winning move for MAX\n",
        "        \"A\": {\"D\": 3, \"E\": 5},\n",
        "        \"B\": {\"F\": 6, \"G\": 9}\n",
        "    }\n",
        "}"
      ],
      "metadata": {
        "id": "mt267xwyKXEq"
      },
      "execution_count": 12,
      "outputs": []
    },
    {
      "cell_type": "code",
      "source": [
        "optimal_value_3 = minimax(game_tree_immediate_winning_move[\"root\"], is_max=True)\n",
        "print(f\"Optimal value for MAX: {optimal_value_3}\")"
      ],
      "metadata": {
        "colab": {
          "base_uri": "https://localhost:8080/"
        },
        "id": "I8peFZKpL_7X",
        "outputId": "d59ffcd7-5950-49a6-adad-021c84fe7b07"
      },
      "execution_count": 14,
      "outputs": [
        {
          "output_type": "stream",
          "name": "stdout",
          "text": [
            "Optimal value for MAX: 8\n"
          ]
        }
      ]
    },
    {
      "cell_type": "markdown",
      "source": [
        "# **Analysis question 2**\n",
        "\n",
        "# **How does the algorithm behave if MAX always has an immediate winning move?**\n",
        "\n",
        "Trace of the execution:\n",
        "\n",
        "Root Node (MAX): At the root node, the minimax algorithm goes to the three branches \"C\", \"A\", and \"B\".\n",
        "\n",
        "Branch \"C\": Since \"C\" is a terminal node with a value of 8, the algorithm gives this value to \"C\".\n",
        "\n",
        "Branches \"A\" and \"B\": The algorithm recursively goes to the subtrees under \"A\" and \"B\" to determine the best MAX.\n",
        "\n",
        "Maximization: The minimax algorithm compares the values obtained from the three branches: 8 (from \"C\"), and the values that are obtained from going to \"A\" and \"B\".\n",
        "\n",
        "Optimal Value: Since 8 is the highest value among all branches, the minimax algorithm returns 8 as the optimal value. This shows that MAX has a guaranteed win by choosing branch \"C\"(immediate winning move)."
      ],
      "metadata": {
        "id": "Pb4h_Cz-MJ2d"
      }
    },
    {
      "cell_type": "markdown",
      "source": [
        "#  **Analysis question 3**\n",
        "\n",
        "# **Explain the role of recursion in the Minimax algorithm.**\n",
        "\n",
        "1. Recursion allows the Minimax algorithm to explore all possible paths in the game tree.\n",
        "2. It alternates players by using (not is_max)\n",
        "3. It backtracks up the tree the value of best_value"
      ],
      "metadata": {
        "id": "fOfDsT4AN5oS"
      }
    }
  ]
}