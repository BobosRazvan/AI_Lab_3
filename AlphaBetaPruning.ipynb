{
  "nbformat": 4,
  "nbformat_minor": 0,
  "metadata": {
    "colab": {
      "provenance": [],
      "authorship_tag": "ABX9TyMPZN5koZaisx8N+SQCCjSW",
      "include_colab_link": true
    },
    "kernelspec": {
      "name": "python3",
      "display_name": "Python 3"
    },
    "language_info": {
      "name": "python"
    }
  },
  "cells": [
    {
      "cell_type": "markdown",
      "metadata": {
        "id": "view-in-github",
        "colab_type": "text"
      },
      "source": [
        "<a href=\"https://colab.research.google.com/github/BobosRazvan/AI_Lab_3/blob/main/AlphaBetaPruning.ipynb\" target=\"_parent\"><img src=\"https://colab.research.google.com/assets/colab-badge.svg\" alt=\"Open In Colab\"/></a>"
      ]
    },
    {
      "cell_type": "code",
      "execution_count": 1,
      "metadata": {
        "id": "qlcqhT0rWKnu"
      },
      "outputs": [],
      "source": [
        "\n",
        "game_tree = {\n",
        "'A': ['B', 'C'],\n",
        "'B': ['D', 'E'],\n",
        "'C': ['F', 'G'],\n",
        "'D': [], 'E': [], 'F': [], 'G': []\n",
        "}\n",
        "\n",
        "terminal_values = {\n",
        "'D': 3, 'E': 5,\n",
        "'F': 6, 'G': 9\n",
        "}"
      ]
    },
    {
      "cell_type": "code",
      "source": [
        "\n",
        "def alpha_beta_pruning(node, depth, alpha, beta, maximizing_player):\n",
        "\n",
        "  if node in terminal_values:\n",
        "    return terminal_values[node]\n",
        "\n",
        "  if maximizing_player:\n",
        "\n",
        "    max_eval = float('-inf')\n",
        "    for child in game_tree[node]:\n",
        "      eval = alpha_beta_pruning(child, depth + 1, alpha, beta, False)\n",
        "      max_eval = max(max_eval, eval)\n",
        "      alpha = max(alpha, eval)\n",
        "      if beta <= alpha:\n",
        "        break\n",
        "\n",
        "    return max_eval\n",
        "  else:\n",
        "\n",
        "    min_eval = float('inf')\n",
        "    for child in game_tree[node]:\n",
        "      eval = alpha_beta_pruning(child, depth + 1, alpha, beta, True)\n",
        "      min_eval = min(min_eval, eval)\n",
        "      beta = min(beta, eval)\n",
        "      if beta <= alpha:\n",
        "        break\n",
        "\n",
        "    return min_eval"
      ],
      "metadata": {
        "id": "TcLOt7ARWPjY"
      },
      "execution_count": 2,
      "outputs": []
    },
    {
      "cell_type": "code",
      "source": [
        "optimal_value = alpha_beta_pruning('A', 0, float('-inf'), float('inf'), True)\n",
        "print(f\"The optimal value is: {optimal_value}\")"
      ],
      "metadata": {
        "colab": {
          "base_uri": "https://localhost:8080/"
        },
        "id": "rcdwKybkWRzQ",
        "outputId": "77fda121-657f-4823-c3bb-3da65f30d3c5"
      },
      "execution_count": 3,
      "outputs": [
        {
          "output_type": "stream",
          "name": "stdout",
          "text": [
            "The optimal value is: 6\n"
          ]
        }
      ]
    },
    {
      "cell_type": "markdown",
      "source": [
        "# **Analysis Questions**\n",
        "**1. Analyze the given tree structure (game_tree) and terminal values (terminal_values).**\n",
        "\n",
        "* Game Tree Structure:\n",
        "\n",
        "\n",
        "\n",
        "The structure is a dictionary representing the game tree. The game tree structure is the same as the game tree used in the MiniMax algorithm implementation.  The values associated with each key are lists of the node's children. For example, node 'A' has children 'B' and 'C'.\n",
        "\n",
        "\n",
        "* Terminal Values:\n",
        "\n",
        "This dictionary stores the values of the terminal states (leaf nodes) in the game tree.\n",
        "The values associated with each key represent the score or utility value of reaching that terminal node. For instance, reaching node 'D' results in a value of 3.\n",
        "\n",
        "**2. Understand the base case for leaves and recursive evaluation of child nodes.**\n",
        "\n",
        "* Base Case: Leaf Nodes\n",
        "\n",
        " The base case is triggered when the current node being evaluated is a terminal node. This is checked using the condition if node in terminal_values. If the node is a terminal node, its value is received from the terminal_values dictionary and returned.\n",
        "\n",
        "* Recursive evaluation of child nodes\n",
        "\n",
        " For each child, it makes a recursive call to alpha_beta_pruning with the child node as the new current node, adjusting the depth and switching to the minimizing player. This goes to deeper levels of the game tree"
      ],
      "metadata": {
        "id": "U5tHNuXYZW14"
      }
    }
  ]
}